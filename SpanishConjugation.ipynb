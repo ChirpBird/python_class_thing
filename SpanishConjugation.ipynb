{
 "cells": [
  {
   "cell_type": "code",
   "execution_count": 8,
   "metadata": {},
   "outputs": [
    {
     "name": "stdout",
     "output_type": "stream",
     "text": [
      "What's your verb? trabajar\n",
      "What's your pronoun? el\n",
      "el trabaja\n"
     ]
    }
   ],
   "source": [
    "verb = input(\"What's your verb? \")\n",
    "pronoun = input(\"What's your pronoun? \").lower()\n",
    "def conjugation(verb,pronoun):\n",
    "    verbEndingsAR = {'yo':'o', 'tu':'as', 'el': 'a', 'ella':'a', 'usted':'a',\n",
    "                  'nosotros':'amos', 'nosotras': 'amos', 'vosotros':'ais',\n",
    "                  'vosotras':'ais', 'ellos':'an', 'ellas':'an', 'ustedes':'an'}\n",
    "    \n",
    "    verbEndingsER = {'yo':'o', 'tu':'es', 'el': 'e', 'ella':'e', 'usted':'e',\n",
    "                  'nosotros':'emos', 'nosotras': 'emos', 'vosotros':'eis',\n",
    "                  'vosotras':'eis', 'ellos':'en', 'ellas':'en', 'ustedes':'en'}\n",
    "    \n",
    "    verbEndingsIR = {'yo':'o', 'tu':'es', 'el': 'e', 'ella':'e', 'usted':'e',\n",
    "                  'nosotros':'imos', 'nosotras': 'imos', 'vosotros':'is',\n",
    "                  'vosotras':'is', 'ellos':'en', 'ellas':'en', 'ustedes':'en'}\n",
    "    #pronoun:verb ending\n",
    "    regVerbEnd = verb[-2:].lower()\n",
    "    if regVerbEnd == 'ar':\n",
    "        verb = verb[0:-2] + verbEndingsAR[pronoun]\n",
    "    elif regVerbEnd == 'ir':\n",
    "        verb = verb[0:-2] + verbEndingsIR[pronoun]\n",
    "    elif regVerbEnd == 'er':\n",
    "        verb = verb[0:-2] + verbEnding[pronoun]\n",
    "    print(pronoun, verb)\n",
    "conjugation(verb,pronoun)"
   ]
  }
 ],
 "metadata": {
  "kernelspec": {
   "display_name": "Python 3",
   "language": "python",
   "name": "python3"
  },
  "language_info": {
   "codemirror_mode": {
    "name": "ipython",
    "version": 3
   },
   "file_extension": ".py",
   "mimetype": "text/x-python",
   "name": "python",
   "nbconvert_exporter": "python",
   "pygments_lexer": "ipython3",
   "version": "3.8.5"
  }
 },
 "nbformat": 4,
 "nbformat_minor": 4
}
