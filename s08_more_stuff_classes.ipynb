{
 "cells": [
  {
   "cell_type": "code",
   "execution_count": 11,
   "metadata": {},
   "outputs": [
    {
     "name": "stdout",
     "output_type": "stream",
     "text": [
      "2020\n",
      "2020-12-26 15:06:00\n"
     ]
    }
   ],
   "source": [
    "from datetime import datetime\n",
    "x = datetime(2020, 12, 26, 15, 6)\n",
    "print(x.year)\n",
    "print(x)"
   ]
  },
  {
   "cell_type": "code",
   "execution_count": 27,
   "metadata": {},
   "outputs": [
    {
     "name": "stdout",
     "output_type": "stream",
     "text": [
      "I have 1 object(s) orbiting me!\n",
      "My shape is spherical\n",
      "I'm in the UNIVERSE!\n",
      "I am called Earth\n"
     ]
    }
   ],
   "source": [
    "class planet:\n",
    "    gravity = True\n",
    "    elliptical_orbit = True\n",
    "    shape = 'spherical'\n",
    "    dominatesOrbit = True\n",
    "    def __init__(self, satelliteNum, name):\n",
    "        self.satelliteNum = satelliteNum\n",
    "        self.name = name\n",
    "    def sentenceMaker(self):\n",
    "        print(\"My shape is \" + self.shape)\n",
    "    def bigBong(self,objectInUniverse):\n",
    "        if objectInUniverse == True:\n",
    "            print(\"I'm in the UNIVERSE!\")\n",
    "    def printName(self, name):\n",
    "        print(\"I am called \" + name + \"!\")    \n",
    "    def satelliteCounter(self):\n",
    "        print(\"I have \" + str(self.satelliteNum) + \" object(s) orbiting me!\")\n",
    "    \n",
    "Earth = planet(1, Earth)\n",
    "\n",
    "Earth.satelliteCounter()\n",
    "\n",
    "Earth.sentenceMaker()\n",
    "\n",
    "Earth.bigBong(True)\n",
    "\n",
    "Earth.printName(\"Earth\")"
   ]
  },
  {
   "cell_type": "code",
   "execution_count": null,
   "metadata": {},
   "outputs": [],
   "source": [
    "class stuffInUniverse:\n",
    "    gravity = True\n",
    "    location = 'universe'\n",
    "    class stuffOnEarth(self,)"
   ]
  }
 ],
 "metadata": {
  "kernelspec": {
   "display_name": "Python 3",
   "language": "python",
   "name": "python3"
  },
  "language_info": {
   "codemirror_mode": {
    "name": "ipython",
    "version": 3
   },
   "file_extension": ".py",
   "mimetype": "text/x-python",
   "name": "python",
   "nbconvert_exporter": "python",
   "pygments_lexer": "ipython3",
   "version": "3.8.5"
  }
 },
 "nbformat": 4,
 "nbformat_minor": 4
}
