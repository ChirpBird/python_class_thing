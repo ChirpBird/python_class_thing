{
 "cells": [
  {
   "cell_type": "code",
   "execution_count": 11,
   "metadata": {},
   "outputs": [
    {
     "name": "stdout",
     "output_type": "stream",
     "text": [
      "2020\n",
      "2020-12-26 15:06:00\n"
     ]
    }
   ],
   "source": [
    "from datetime import datetime\n",
    "x = datetime(2020, 12, 26, 15, 6)\n",
    "print(x.year)\n",
    "print(x)"
   ]
  },
  {
   "cell_type": "code",
   "execution_count": 9,
   "metadata": {},
   "outputs": [
    {
     "data": {
      "text/plain": [
       "1"
      ]
     },
     "execution_count": 9,
     "metadata": {},
     "output_type": "execute_result"
    }
   ],
   "source": [
    "class planet:\n",
    "    gravity = True\n",
    "    elliptical_orbit = True\n",
    "    shape = 'spherical'\n",
    "    dominatesOrbit = True\n",
    "    def __init__(self, satelliteNum, name):\n",
    "        self.satelliteNum = satelliteNum\n",
    "        self.name = name\n",
    "Earth = planet(1, Earth)\n",
    "Earth.satelliteNum"
   ]
  },
  {
   "cell_type": "code",
   "execution_count": null,
   "metadata": {},
   "outputs": [],
   "source": []
  }
 ],
 "metadata": {
  "kernelspec": {
   "display_name": "Python 3",
   "language": "python",
   "name": "python3"
  },
  "language_info": {
   "codemirror_mode": {
    "name": "ipython",
    "version": 3
   },
   "file_extension": ".py",
   "mimetype": "text/x-python",
   "name": "python",
   "nbconvert_exporter": "python",
   "pygments_lexer": "ipython3",
   "version": "3.8.5"
  }
 },
 "nbformat": 4,
 "nbformat_minor": 4
}
