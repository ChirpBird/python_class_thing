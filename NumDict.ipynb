{
 "cells": [
  {
   "cell_type": "code",
   "execution_count": 9,
   "metadata": {},
   "outputs": [
    {
     "name": "stdout",
     "output_type": "stream",
     "text": [
      "{'zero': 0, 'one': 1, 'two': 2, 'three': 3, 'four': 4, 'five': 5, 'six': 6}\n"
     ]
    },
    {
     "data": {
      "text/plain": [
       "'if intNums.len() > stringNums.len():\\n    for x in stringNums:\\n        totalNums[x] = intNums[y]\\nelse:\\n    for x in intNums:\\n        totalNums[x] = stringNums[y]'"
      ]
     },
     "execution_count": 9,
     "metadata": {},
     "output_type": "execute_result"
    }
   ],
   "source": [
    "#List One\n",
    "intNums = [0,1,2,3,4,5,6]\n",
    "\n",
    "#Combines with List Two\n",
    "stringNums = ['zero', 'one', 'two', 'three', 'four', 'five', 'six']\n",
    "\n",
    "#To make a dictionary\n",
    "totalNums = {}\n",
    "y = 0\n",
    "for x in stringNums:\n",
    "    totalNums[x] = intNums[y]\n",
    "    y+=1\n",
    "print(totalNums)\n",
    "\n",
    "#If the lists have different lengths:\n",
    "#if intNums.len() > stringNums.len():\n",
    "    #for x in stringNums:\n",
    "        #totalNums[x] = intNums[y]\n",
    "#else:\n",
    "    #for x in intNums:\n",
    "        #totalNums[x] = stringNums[y]"
   ]
  }
 ],
 "metadata": {
  "kernelspec": {
   "display_name": "Python 3",
   "language": "python",
   "name": "python3"
  },
  "language_info": {
   "codemirror_mode": {
    "name": "ipython",
    "version": 3
   },
   "file_extension": ".py",
   "mimetype": "text/x-python",
   "name": "python",
   "nbconvert_exporter": "python",
   "pygments_lexer": "ipython3",
   "version": "3.8.5"
  }
 },
 "nbformat": 4,
 "nbformat_minor": 4
}
